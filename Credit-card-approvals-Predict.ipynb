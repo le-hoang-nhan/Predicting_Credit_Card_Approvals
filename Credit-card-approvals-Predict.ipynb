{
 "cells": [
  {
   "cell_type": "code",
   "execution_count": 39,
   "metadata": {
    "dc": {
     "key": "3"
    },
    "trusted": true,
    "tags": [
     "sample_code"
    ]
   },
   "outputs": [
    {
     "name": "stdout",
     "output_type": "stream",
     "text": [
      "  Male    Age   Debt Married BankCustomer EducationLevel Ethnicity  \\\n0    b  30.83  0.000       u            g              w         v   \n1    a  58.67  4.460       u            g              q         h   \n2    a   24.5  0.500       u            g              q         h   \n3    b  27.83  1.540       u            g              w         v   \n4    b  20.17  5.625       u            g              w         v   \n\n   YearsEmployed PriorDefault Employed  CreditScore DriversLicense Citizen  \\\n0           1.25            t        t            1              f       g   \n1           3.04            t        t            6              f       g   \n2           1.50            t        f            0              f       g   \n3           3.75            t        t            5              t       g   \n4           1.71            t        f            0              f       s   \n\n  ZipCode  Income Approved  \n0     202       0        +  \n1      43     560        +  \n2     280     824        +  \n3     100       3        +  \n4     120       0        +  \n"
     ]
    }
   ],
   "source": [
    "# Import pandas\n",
    "import pandas as pd\n",
    "\n",
    "# Load dataset\n",
    "cc_apps = pd.read_csv(r\"C:\\Users\\LE HOANG NHAN\\PycharmProjects\\predict_card_approval\\cc_approval.csv\")\n",
    "\n",
    "# Inspect data\n",
    "print(cc_apps.head())"
   ]
  },
  {
   "cell_type": "code",
   "execution_count": 40,
   "metadata": {
    "dc": {
     "key": "10"
    },
    "trusted": true,
    "tags": [
     "sample_code"
    ]
   },
   "outputs": [
    {
     "name": "stdout",
     "output_type": "stream",
     "text": [
      "             Debt  YearsEmployed  CreditScore         Income\ncount  690.000000     690.000000    690.00000     690.000000\nmean     4.758725       2.223406      2.40000    1017.385507\nstd      4.978163       3.346513      4.86294    5210.102598\nmin      0.000000       0.000000      0.00000       0.000000\n25%      1.000000       0.165000      0.00000       0.000000\n50%      2.750000       1.000000      0.00000       5.000000\n75%      7.207500       2.625000      3.00000     395.500000\nmax     28.000000      28.500000     67.00000  100000.000000\n\n\n<class 'pandas.core.frame.DataFrame'>\nRangeIndex: 690 entries, 0 to 689\nData columns (total 16 columns):\nMale              690 non-null object\nAge               690 non-null object\nDebt              690 non-null float64\nMarried           690 non-null object\nBankCustomer      690 non-null object\nEducationLevel    690 non-null object\nEthnicity         690 non-null object\nYearsEmployed     690 non-null float64\nPriorDefault      690 non-null object\nEmployed          690 non-null object\nCreditScore       690 non-null int64\nDriversLicense    690 non-null object\nCitizen           690 non-null object\nZipCode           690 non-null object\nIncome            690 non-null int64\nApproved          690 non-null object\ndtypes: float64(2), int64(2), object(12)\nmemory usage: 53.9+ KB\nNone\n\n\n    Male    Age    Debt Married BankCustomer EducationLevel Ethnicity  \\\n673    ?   29.5   2.000       y            p              e         h   \n674    a  37.33   2.500       u            g              i         h   \n675    a  41.58   1.040       u            g             aa         v   \n676    a  30.58  10.665       u            g              q         h   \n677    b  19.42   7.250       u            g              m         v   \n678    a  17.92  10.210       u            g             ff        ff   \n679    a  20.08   1.250       u            g              c         v   \n680    b   19.5   0.290       u            g              k         v   \n681    b  27.83   1.000       y            p              d         h   \n682    b  17.08   3.290       u            g              i         v   \n683    b  36.42   0.750       y            p              d         v   \n684    b  40.58   3.290       u            g              m         v   \n685    b  21.08  10.085       y            p              e         h   \n686    a  22.67   0.750       u            g              c         v   \n687    a  25.25  13.500       y            p             ff        ff   \n688    b  17.92   0.205       u            g             aa         v   \n689    b     35   3.375       u            g              c         h   \n\n     YearsEmployed PriorDefault Employed  CreditScore DriversLicense Citizen  \\\n673          2.000            f        f            0              f       g   \n674          0.210            f        f            0              f       g   \n675          0.665            f        f            0              f       g   \n676          0.085            f        t           12              t       g   \n677          0.040            f        t            1              f       g   \n678          0.000            f        f            0              f       g   \n679          0.000            f        f            0              f       g   \n680          0.290            f        f            0              f       g   \n681          3.000            f        f            0              f       g   \n682          0.335            f        f            0              t       g   \n683          0.585            f        f            0              f       g   \n684          3.500            f        f            0              t       s   \n685          1.250            f        f            0              f       g   \n686          2.000            f        t            2              t       g   \n687          2.000            f        t            1              t       g   \n688          0.040            f        f            0              f       g   \n689          8.290            f        f            0              t       g   \n\n    ZipCode  Income Approved  \n673     256      17        -  \n674     260     246        -  \n675     240     237        -  \n676     129       3        -  \n677     100       1        -  \n678       0      50        -  \n679       0       0        -  \n680     280     364        -  \n681     176     537        -  \n682     140       2        -  \n683     240       3        -  \n684     400       0        -  \n685     260       0        -  \n686     200     394        -  \n687     200       1        -  \n688     280     750        -  \n689       0       0        -  \n"
     ]
    }
   ],
   "source": [
    "# Print summary statistics\n",
    "cc_apps_description = cc_apps.describe()\n",
    "print(cc_apps_description)\n",
    "\n",
    "print(\"\\n\")\n",
    "\n",
    "# Print DataFrame information\n",
    "cc_apps_info = cc_apps.info()\n",
    "print(cc_apps_info)\n",
    "\n",
    "print(\"\\n\")\n",
    "\n",
    "# Inspect missing values in the dataset\n",
    "print(cc_apps.tail(17))"
   ]
  },
  {
   "cell_type": "code",
   "execution_count": 41,
   "metadata": {
    "dc": {
     "key": "17"
    },
    "trusted": true,
    "tags": [
     "sample_code"
    ]
   },
   "outputs": [
    {
     "name": "stdout",
     "output_type": "stream",
     "text": [
      "0\n    Male    Age    Debt Married BankCustomer EducationLevel Ethnicity  \\\n673  NaN   29.5   2.000       y            p              e         h   \n674    a  37.33   2.500       u            g              i         h   \n675    a  41.58   1.040       u            g             aa         v   \n676    a  30.58  10.665       u            g              q         h   \n677    b  19.42   7.250       u            g              m         v   \n678    a  17.92  10.210       u            g             ff        ff   \n679    a  20.08   1.250       u            g              c         v   \n680    b   19.5   0.290       u            g              k         v   \n681    b  27.83   1.000       y            p              d         h   \n682    b  17.08   3.290       u            g              i         v   \n683    b  36.42   0.750       y            p              d         v   \n684    b  40.58   3.290       u            g              m         v   \n685    b  21.08  10.085       y            p              e         h   \n686    a  22.67   0.750       u            g              c         v   \n687    a  25.25  13.500       y            p             ff        ff   \n688    b  17.92   0.205       u            g             aa         v   \n689    b     35   3.375       u            g              c         h   \n\n     YearsEmployed PriorDefault Employed  CreditScore DriversLicense Citizen  \\\n673          2.000            f        f            0              f       g   \n674          0.210            f        f            0              f       g   \n675          0.665            f        f            0              f       g   \n676          0.085            f        t           12              t       g   \n677          0.040            f        t            1              f       g   \n678          0.000            f        f            0              f       g   \n679          0.000            f        f            0              f       g   \n680          0.290            f        f            0              f       g   \n681          3.000            f        f            0              f       g   \n682          0.335            f        f            0              t       g   \n683          0.585            f        f            0              f       g   \n684          3.500            f        f            0              t       s   \n685          1.250            f        f            0              f       g   \n686          2.000            f        t            2              t       g   \n687          2.000            f        t            1              t       g   \n688          0.040            f        f            0              f       g   \n689          8.290            f        f            0              t       g   \n\n    ZipCode  Income Approved  \n673     256      17        -  \n674     260     246        -  \n675     240     237        -  \n676     129       3        -  \n677     100       1        -  \n678       0      50        -  \n679       0       0        -  \n680     280     364        -  \n681     176     537        -  \n682     140       2        -  \n683     240       3        -  \n684     400       0        -  \n685     260       0        -  \n686     200     394        -  \n687     200       1        -  \n688     280     750        -  \n689       0       0        -  \n"
     ]
    }
   ],
   "source": [
    "# Import numpy\n",
    "import numpy as np\n",
    "\n",
    "# Inspect missing values in the dataset\n",
    "print(cc_apps.isnull().values.sum())\n",
    "\n",
    "# Replace the '?'s with NaN\n",
    "cc_apps = cc_apps.replace('?', np.NaN)\n",
    "\n",
    "# Inspect the missing values again\n",
    "print(cc_apps.tail(17))"
   ]
  },
  {
   "cell_type": "code",
   "execution_count": 42,
   "metadata": {
    "dc": {
     "key": "24"
    },
    "trusted": true,
    "tags": [
     "sample_code"
    ]
   },
   "outputs": [
    {
     "data": {
      "text/plain": [
       "67"
      ]
     },
     "execution_count": 42,
     "metadata": {},
     "output_type": "execute_result"
    }
   ],
   "source": [
    "# Impute the missing values with mean imputation\n",
    "cc_apps.fillna(cc_apps.mean(), inplace=True)\n",
    "\n",
    "# Count the number of NaNs in the dataset to verify\n",
    "cc_apps.isna().values.sum() "
   ]
  },
  {
   "cell_type": "code",
   "execution_count": 43,
   "metadata": {
    "dc": {
     "key": "31"
    },
    "trusted": true,
    "tags": [
     "sample_code"
    ]
   },
   "outputs": [
    {
     "name": "stdout",
     "output_type": "stream",
     "text": [
      "0\n"
     ]
    }
   ],
   "source": [
    "# Iterate over each column of cc_apps\n",
    "for col in cc_apps.columns:\n",
    "    # Check if the column is of object type\n",
    "    if cc_apps[col].dtypes == 'object':\n",
    "        # Impute with the most frequent value\n",
    "        cc_apps = cc_apps.fillna(cc_apps[col].value_counts().index[0])\n",
    "\n",
    "# Count the number of NaNs in the dataset and print the counts to verify\n",
    "print(cc_apps.isna().values.sum())"
   ]
  },
  {
   "cell_type": "code",
   "execution_count": 44,
   "metadata": {
    "dc": {
     "key": "38"
    },
    "trusted": true,
    "tags": [
     "sample_code"
    ]
   },
   "outputs": [],
   "source": [
    "# Import LabelEncoder\n",
    "from sklearn.preprocessing import LabelEncoder\n",
    "\n",
    "# Instantiate LabelEncoder\n",
    "le = LabelEncoder()\n",
    "\n",
    "# Iterate over all the values of each column and extract their dtypes\n",
    "for col in cc_apps.columns:\n",
    "    # Compare if the dtype is object\n",
    "    if cc_apps[col].dtype=='object':\n",
    "    # Use LabelEncoder to do the numeric transformation\n",
    "        cc_apps[col]=le.fit_transform(cc_apps[col])"
   ]
  },
  {
   "cell_type": "code",
   "execution_count": 45,
   "metadata": {
    "dc": {
     "key": "45"
    },
    "trusted": true,
    "tags": [
     "sample_code"
    ]
   },
   "outputs": [],
   "source": [
    "# Import MinMaxScaler\n",
    "from sklearn.preprocessing import MinMaxScaler \n",
    "\n",
    "# Drop features DriversLicense (10)  and ZipCode (13) and convert the DataFrame to a NumPy array\n",
    "cc_apps = cc_apps.drop([cc_apps.columns[10],cc_apps.columns[13]], axis=1)\n",
    "cc_apps = cc_apps.values\n",
    "\n",
    "# Segregate features and labels into separate variables\n",
    "X,y = cc_apps[:,0:13] , cc_apps[:,13]\n",
    "\n",
    "# Instantiate MinMaxScaler and use it to rescale\n",
    "scaler = MinMaxScaler(feature_range=(0, 1))\n",
    "rescaledX = scaler.fit_transform(X)"
   ]
  },
  {
   "cell_type": "code",
   "execution_count": 46,
   "metadata": {
    "dc": {
     "key": "52"
    },
    "trusted": true,
    "tags": [
     "sample_code"
    ]
   },
   "outputs": [],
   "source": [
    "# Import train_test_split\n",
    "from sklearn.model_selection import train_test_split\n",
    "\n",
    "# Split into train and test sets\n",
    "X_train, X_test, y_train, y_test = train_test_split(X,\n",
    "                                y,\n",
    "                                test_size=0.33,\n",
    "                                random_state=42)"
   ]
  },
  {
   "cell_type": "code",
   "execution_count": 47,
   "metadata": {
    "dc": {
     "key": "59"
    },
    "trusted": true,
    "tags": [
     "sample_code"
    ]
   },
   "outputs": [
    {
     "name": "stderr",
     "output_type": "stream",
     "text": [
      "C:\\Users\\LE HOANG NHAN\\1111\\lib\\site-packages\\sklearn\\linear_model\\logistic.py:432: FutureWarning: Default solver will be changed to 'lbfgs' in 0.22. Specify a solver to silence this warning.\n  FutureWarning)\n"
     ]
    },
    {
     "data": {
      "text/plain": [
       "LogisticRegression(C=1.0, class_weight=None, dual=False, fit_intercept=True,\n                   intercept_scaling=1, l1_ratio=None, max_iter=100,\n                   multi_class='warn', n_jobs=None, penalty='l2',\n                   random_state=None, solver='warn', tol=0.0001, verbose=0,\n                   warm_start=False)"
      ]
     },
     "execution_count": 47,
     "metadata": {},
     "output_type": "execute_result"
    }
   ],
   "source": [
    "# Import LogisticRegression\n",
    "from sklearn.linear_model import LogisticRegression\n",
    "\n",
    "# Instantiate a LogisticRegression classifier with default parameter values\n",
    "logreg = LogisticRegression()\n",
    "\n",
    "# Fit logreg to the train set\n",
    "logreg.fit(X_train,y_train)"
   ]
  },
  {
   "cell_type": "code",
   "execution_count": 48,
   "metadata": {
    "dc": {
     "key": "66"
    },
    "trusted": true,
    "tags": [
     "sample_code"
    ]
   },
   "outputs": [
    {
     "name": "stdout",
     "output_type": "stream",
     "text": [
      "Accuracy of logistic regression classifier:  0.8464912280701754\n"
     ]
    },
    {
     "data": {
      "text/plain": [
       "array([[94,  9],\n       [26, 99]], dtype=int64)"
      ]
     },
     "execution_count": 48,
     "metadata": {},
     "output_type": "execute_result"
    }
   ],
   "source": [
    "# Import confusion_matrix\n",
    "from sklearn.metrics import confusion_matrix\n",
    "\n",
    "# Use logreg to predict instances from the test set and store it\n",
    "y_pred = logreg.predict(X_test)\n",
    "\n",
    "# Get the accuracy score of logreg model and print it\n",
    "print(\"Accuracy of logistic regression classifier: \", logreg.score(X_test , y_test))\n",
    "\n",
    "# Print the confusion matrix of the logreg model\n",
    "confusion_matrix(y_test, y_pred)"
   ]
  },
  {
   "cell_type": "code",
   "execution_count": 49,
   "metadata": {
    "dc": {
     "key": "73"
    },
    "trusted": true,
    "tags": [
     "sample_code"
    ]
   },
   "outputs": [],
   "source": [
    "# Import GridSearchCV\n",
    "from sklearn.model_selection import GridSearchCV \n",
    "\n",
    "# Define the grid of values for tol and max_iter\n",
    "tol = [ 0.01, 0.001 , 0.0001]\n",
    "max_iter = [100, 150 , 200]\n",
    "\n",
    "# Create a dictionary where tol and max_iter are keys and the lists of their values are corresponding values\n",
    "param_grid = dict(tol=tol, max_iter=max_iter)"
   ]
  },
  {
   "cell_type": "code",
   "execution_count": 50,
   "metadata": {
    "dc": {
     "key": "80"
    },
    "trusted": true,
    "tags": [
     "sample_code"
    ]
   },
   "outputs": [
    {
     "name": "stderr",
     "output_type": "stream",
     "text": [
      "C:\\Users\\LE HOANG NHAN\\1111\\lib\\site-packages\\sklearn\\linear_model\\logistic.py:432: FutureWarning: Default solver will be changed to 'lbfgs' in 0.22. Specify a solver to silence this warning.\n  FutureWarning)\nC:\\Users\\LE HOANG NHAN\\1111\\lib\\site-packages\\sklearn\\linear_model\\logistic.py:432: FutureWarning: Default solver will be changed to 'lbfgs' in 0.22. Specify a solver to silence this warning.\n  FutureWarning)\nC:\\Users\\LE HOANG NHAN\\1111\\lib\\site-packages\\sklearn\\linear_model\\logistic.py:432: FutureWarning: Default solver will be changed to 'lbfgs' in 0.22. Specify a solver to silence this warning.\n  FutureWarning)\nC:\\Users\\LE HOANG NHAN\\1111\\lib\\site-packages\\sklearn\\linear_model\\logistic.py:432: FutureWarning: Default solver will be changed to 'lbfgs' in 0.22. Specify a solver to silence this warning.\n  FutureWarning)\nC:\\Users\\LE HOANG NHAN\\1111\\lib\\site-packages\\sklearn\\linear_model\\logistic.py:432: FutureWarning: Default solver will be changed to 'lbfgs' in 0.22. Specify a solver to silence this warning.\n  FutureWarning)\nC:\\Users\\LE HOANG NHAN\\1111\\lib\\site-packages\\sklearn\\linear_model\\logistic.py:432: FutureWarning: Default solver will be changed to 'lbfgs' in 0.22. Specify a solver to silence this warning.\n  FutureWarning)\nC:\\Users\\LE HOANG NHAN\\1111\\lib\\site-packages\\sklearn\\linear_model\\logistic.py:432: FutureWarning: Default solver will be changed to 'lbfgs' in 0.22. Specify a solver to silence this warning.\n  FutureWarning)\nC:\\Users\\LE HOANG NHAN\\1111\\lib\\site-packages\\sklearn\\linear_model\\logistic.py:432: FutureWarning: Default solver will be changed to 'lbfgs' in 0.22. Specify a solver to silence this warning.\n  FutureWarning)\nC:\\Users\\LE HOANG NHAN\\1111\\lib\\site-packages\\sklearn\\linear_model\\logistic.py:432: FutureWarning: Default solver will be changed to 'lbfgs' in 0.22. Specify a solver to silence this warning.\n  FutureWarning)\nC:\\Users\\LE HOANG NHAN\\1111\\lib\\site-packages\\sklearn\\linear_model\\logistic.py:432: FutureWarning: Default solver will be changed to 'lbfgs' in 0.22. Specify a solver to silence this warning.\n  FutureWarning)\nC:\\Users\\LE HOANG NHAN\\1111\\lib\\site-packages\\sklearn\\linear_model\\logistic.py:432: FutureWarning: Default solver will be changed to 'lbfgs' in 0.22. Specify a solver to silence this warning.\n  FutureWarning)\nC:\\Users\\LE HOANG NHAN\\1111\\lib\\site-packages\\sklearn\\linear_model\\logistic.py:432: FutureWarning: Default solver will be changed to 'lbfgs' in 0.22. Specify a solver to silence this warning.\n  FutureWarning)\nC:\\Users\\LE HOANG NHAN\\1111\\lib\\site-packages\\sklearn\\linear_model\\logistic.py:432: FutureWarning: Default solver will be changed to 'lbfgs' in 0.22. Specify a solver to silence this warning.\n  FutureWarning)\nC:\\Users\\LE HOANG NHAN\\1111\\lib\\site-packages\\sklearn\\linear_model\\logistic.py:432: FutureWarning: Default solver will be changed to 'lbfgs' in 0.22. Specify a solver to silence this warning.\n  FutureWarning)\nC:\\Users\\LE HOANG NHAN\\1111\\lib\\site-packages\\sklearn\\linear_model\\logistic.py:432: FutureWarning: Default solver will be changed to 'lbfgs' in 0.22. Specify a solver to silence this warning.\n  FutureWarning)\nC:\\Users\\LE HOANG NHAN\\1111\\lib\\site-packages\\sklearn\\linear_model\\logistic.py:432: FutureWarning: Default solver will be changed to 'lbfgs' in 0.22. Specify a solver to silence this warning.\n  FutureWarning)\nC:\\Users\\LE HOANG NHAN\\1111\\lib\\site-packages\\sklearn\\linear_model\\logistic.py:432: FutureWarning: Default solver will be changed to 'lbfgs' in 0.22. Specify a solver to silence this warning.\n  FutureWarning)\nC:\\Users\\LE HOANG NHAN\\1111\\lib\\site-packages\\sklearn\\linear_model\\logistic.py:432: FutureWarning: Default solver will be changed to 'lbfgs' in 0.22. Specify a solver to silence this warning.\n  FutureWarning)\nC:\\Users\\LE HOANG NHAN\\1111\\lib\\site-packages\\sklearn\\linear_model\\logistic.py:432: FutureWarning: Default solver will be changed to 'lbfgs' in 0.22. Specify a solver to silence this warning.\n  FutureWarning)\nC:\\Users\\LE HOANG NHAN\\1111\\lib\\site-packages\\sklearn\\linear_model\\logistic.py:432: FutureWarning: Default solver will be changed to 'lbfgs' in 0.22. Specify a solver to silence this warning.\n  FutureWarning)\nC:\\Users\\LE HOANG NHAN\\1111\\lib\\site-packages\\sklearn\\linear_model\\logistic.py:432: FutureWarning: Default solver will be changed to 'lbfgs' in 0.22. Specify a solver to silence this warning.\n  FutureWarning)\nC:\\Users\\LE HOANG NHAN\\1111\\lib\\site-packages\\sklearn\\linear_model\\logistic.py:432: FutureWarning: Default solver will be changed to 'lbfgs' in 0.22. Specify a solver to silence this warning.\n  FutureWarning)\nC:\\Users\\LE HOANG NHAN\\1111\\lib\\site-packages\\sklearn\\linear_model\\logistic.py:432: FutureWarning: Default solver will be changed to 'lbfgs' in 0.22. Specify a solver to silence this warning.\n  FutureWarning)\nC:\\Users\\LE HOANG NHAN\\1111\\lib\\site-packages\\sklearn\\linear_model\\logistic.py:432: FutureWarning: Default solver will be changed to 'lbfgs' in 0.22. Specify a solver to silence this warning.\n  FutureWarning)\nC:\\Users\\LE HOANG NHAN\\1111\\lib\\site-packages\\sklearn\\linear_model\\logistic.py:432: FutureWarning: Default solver will be changed to 'lbfgs' in 0.22. Specify a solver to silence this warning.\n  FutureWarning)\nC:\\Users\\LE HOANG NHAN\\1111\\lib\\site-packages\\sklearn\\linear_model\\logistic.py:432: FutureWarning: Default solver will be changed to 'lbfgs' in 0.22. Specify a solver to silence this warning.\n  FutureWarning)\nC:\\Users\\LE HOANG NHAN\\1111\\lib\\site-packages\\sklearn\\linear_model\\logistic.py:432: FutureWarning: Default solver will be changed to 'lbfgs' in 0.22. Specify a solver to silence this warning.\n  FutureWarning)\nC:\\Users\\LE HOANG NHAN\\1111\\lib\\site-packages\\sklearn\\linear_model\\logistic.py:432: FutureWarning: Default solver will be changed to 'lbfgs' in 0.22. Specify a solver to silence this warning.\n  FutureWarning)\nC:\\Users\\LE HOANG NHAN\\1111\\lib\\site-packages\\sklearn\\linear_model\\logistic.py:432: FutureWarning: Default solver will be changed to 'lbfgs' in 0.22. Specify a solver to silence this warning.\n  FutureWarning)\nC:\\Users\\LE HOANG NHAN\\1111\\lib\\site-packages\\sklearn\\linear_model\\logistic.py:432: FutureWarning: Default solver will be changed to 'lbfgs' in 0.22. Specify a solver to silence this warning.\n  FutureWarning)\nC:\\Users\\LE HOANG NHAN\\1111\\lib\\site-packages\\sklearn\\linear_model\\logistic.py:432: FutureWarning: Default solver will be changed to 'lbfgs' in 0.22. Specify a solver to silence this warning.\n  FutureWarning)\nC:\\Users\\LE HOANG NHAN\\1111\\lib\\site-packages\\sklearn\\linear_model\\logistic.py:432: FutureWarning: Default solver will be changed to 'lbfgs' in 0.22. Specify a solver to silence this warning.\n  FutureWarning)\nC:\\Users\\LE HOANG NHAN\\1111\\lib\\site-packages\\sklearn\\linear_model\\logistic.py:432: FutureWarning: Default solver will be changed to 'lbfgs' in 0.22. Specify a solver to silence this warning.\n  FutureWarning)\nC:\\Users\\LE HOANG NHAN\\1111\\lib\\site-packages\\sklearn\\linear_model\\logistic.py:432: FutureWarning: Default solver will be changed to 'lbfgs' in 0.22. Specify a solver to silence this warning.\n  FutureWarning)\nC:\\Users\\LE HOANG NHAN\\1111\\lib\\site-packages\\sklearn\\linear_model\\logistic.py:432: FutureWarning: Default solver will be changed to 'lbfgs' in 0.22. Specify a solver to silence this warning.\n  FutureWarning)\nC:\\Users\\LE HOANG NHAN\\1111\\lib\\site-packages\\sklearn\\linear_model\\logistic.py:432: FutureWarning: Default solver will be changed to 'lbfgs' in 0.22. Specify a solver to silence this warning.\n  FutureWarning)\nC:\\Users\\LE HOANG NHAN\\1111\\lib\\site-packages\\sklearn\\linear_model\\logistic.py:432: FutureWarning: Default solver will be changed to 'lbfgs' in 0.22. Specify a solver to silence this warning.\n  FutureWarning)\nC:\\Users\\LE HOANG NHAN\\1111\\lib\\site-packages\\sklearn\\linear_model\\logistic.py:432: FutureWarning: Default solver will be changed to 'lbfgs' in 0.22. Specify a solver to silence this warning.\n  FutureWarning)\nC:\\Users\\LE HOANG NHAN\\1111\\lib\\site-packages\\sklearn\\linear_model\\logistic.py:432: FutureWarning: Default solver will be changed to 'lbfgs' in 0.22. Specify a solver to silence this warning.\n  FutureWarning)\n"
     ]
    },
    {
     "name": "stdout",
     "output_type": "stream",
     "text": [
      "Best: 0.853623 using {'max_iter': 100, 'tol': 0.01}\n"
     ]
    },
    {
     "name": "stderr",
     "output_type": "stream",
     "text": [
      "C:\\Users\\LE HOANG NHAN\\1111\\lib\\site-packages\\sklearn\\linear_model\\logistic.py:432: FutureWarning: Default solver will be changed to 'lbfgs' in 0.22. Specify a solver to silence this warning.\n  FutureWarning)\nC:\\Users\\LE HOANG NHAN\\1111\\lib\\site-packages\\sklearn\\linear_model\\logistic.py:432: FutureWarning: Default solver will be changed to 'lbfgs' in 0.22. Specify a solver to silence this warning.\n  FutureWarning)\nC:\\Users\\LE HOANG NHAN\\1111\\lib\\site-packages\\sklearn\\linear_model\\logistic.py:432: FutureWarning: Default solver will be changed to 'lbfgs' in 0.22. Specify a solver to silence this warning.\n  FutureWarning)\nC:\\Users\\LE HOANG NHAN\\1111\\lib\\site-packages\\sklearn\\linear_model\\logistic.py:432: FutureWarning: Default solver will be changed to 'lbfgs' in 0.22. Specify a solver to silence this warning.\n  FutureWarning)\nC:\\Users\\LE HOANG NHAN\\1111\\lib\\site-packages\\sklearn\\linear_model\\logistic.py:432: FutureWarning: Default solver will be changed to 'lbfgs' in 0.22. Specify a solver to silence this warning.\n  FutureWarning)\nC:\\Users\\LE HOANG NHAN\\1111\\lib\\site-packages\\sklearn\\linear_model\\logistic.py:432: FutureWarning: Default solver will be changed to 'lbfgs' in 0.22. Specify a solver to silence this warning.\n  FutureWarning)\nC:\\Users\\LE HOANG NHAN\\1111\\lib\\site-packages\\sklearn\\linear_model\\logistic.py:432: FutureWarning: Default solver will be changed to 'lbfgs' in 0.22. Specify a solver to silence this warning.\n  FutureWarning)\n"
     ]
    }
   ],
   "source": [
    "# Instantiate GridSearchCV with the required parameters\n",
    "grid_model = GridSearchCV(estimator=logreg, param_grid=param_grid, cv=5)\n",
    "\n",
    "# Fit data to grid_model\n",
    "grid_model_result = grid_model.fit(rescaledX , y)\n",
    "\n",
    "# Summarize results\n",
    "best_score, best_params = grid_model_result.best_score_, grid_model_result.best_params_\n",
    "print(\"Best: %f using %s\" % (best_score, best_params))"
   ]
  },
  {
   "cell_type": "code",
   "execution_count": null,
   "metadata": {},
   "outputs": [],
   "source": []
  }
 ],
 "metadata": {
  "kernelspec": {
   "display_name": "Python 3",
   "name": "python3",
   "language": "python"
  },
  "language_info": {
   "mimetype": "text/x-python",
   "nbconvert_exporter": "python",
   "pygments_lexer": "ipython3",
   "name": "python",
   "file_extension": ".py",
   "codemirror_mode": {
    "name": "ipython",
    "version": 3
   },
   "version": "3.5.2"
  }
 },
 "nbformat": 4,
 "nbformat_minor": 2
}
